{
 "cells": [
  {
   "cell_type": "code",
   "execution_count": 1,
   "id": "a9b048df-f3de-4e25-b670-59f24477b2c4",
   "metadata": {},
   "outputs": [],
   "source": [
    "import requests"
   ]
  },
  {
   "cell_type": "code",
   "execution_count": 2,
   "id": "744fff4b-09ec-4f39-acb7-5965a125c933",
   "metadata": {},
   "outputs": [],
   "source": [
    "import pandas as pd\n",
    "import datetime as dt\n",
    "import numpy as np"
   ]
  },
  {
   "cell_type": "markdown",
   "id": "50494b5c-cd64-43db-8abf-29682c4ea6b6",
   "metadata": {},
   "source": [
    "### Conexion con API function"
   ]
  },
  {
   "cell_type": "code",
   "execution_count": 3,
   "id": "9f2a1229-b780-4d14-8822-fbe3d3edf9d1",
   "metadata": {},
   "outputs": [],
   "source": [
    "class managmenteAPI():\n",
    "\n",
    "    @classmethod\n",
    "    def conection(self,url,columnName=None):\n",
    "        \"\"\"This function get the information about any url, \n",
    "        and return a DataFrame with this data\"\"\"\n",
    "        data=requests.get(url)\n",
    "        if data.status_code==200:\n",
    "            data=data.json()\n",
    "            if columnName==None:\n",
    "                DataFrame=pd.json_normalize(data)\n",
    "            else:\n",
    "                DataFrame=pd.json_normalize(data[columnName])\n",
    "        return DataFrame\n",
    "    "
   ]
  },
  {
   "cell_type": "markdown",
   "id": "8fdb95ec-91d5-4f94-9f25-0eecb40b08d4",
   "metadata": {},
   "source": [
    "### URL API"
   ]
  },
  {
   "cell_type": "code",
   "execution_count": 4,
   "id": "19c0e6cf-6bf1-414a-9f73-c311336a6363",
   "metadata": {},
   "outputs": [],
   "source": [
    "urlCovid={\n",
    "    \"covidtraqcking\":\"https://api.covidtracking.com/v1/us/daily.json\",\n",
    "    \"states\":\"https://api.covidtracking.com/v1/states/info.json\",\n",
    "    \"covidtraqckingHistoric\":\"https://api.covidtracking.com/v1/states/daily.json\",\n",
    "    \"mainAPI\":\"https://covidtracking.com/api\"\n",
    "}\n"
   ]
  },
  {
   "cell_type": "markdown",
   "id": "2132fb77-eaff-45b7-b1fb-b6be9aaa5b00",
   "metadata": {
    "jp-MarkdownHeadingCollapsed": true
   },
   "source": [
    "### Funcion tiempo"
   ]
  },
  {
   "cell_type": "code",
   "execution_count": 5,
   "id": "01452793-a03f-4535-9849-8ea2406f3a57",
   "metadata": {},
   "outputs": [],
   "source": [
    "def scalarHour(dt_serie):\n",
    "    \"\"\"Returns a list containing the hour, minutes and seconds based on datetime series\"\"\"\n",
    "    return [val.strftime('%H:%M:%S') if not pd.isnull(val) else np.nan for val in dt_serie]\n",
    "def scalarHxH(dt_serie, hour_serie=None):\n",
    "    \"\"\"\n",
    "    Returns a list containing the Silao Hour where an event happened\n",
    "    Args:\n",
    "        dt_serie (series): Datetime series to be based on\n",
    "        hour_serie (series Optional): String series containing the hour, is used to calculate the HxH, if None will be calculated\n",
    "    \"\"\"\n",
    "    def add(val, sum_qty):\n",
    "        return str(int(val)+sum_qty).rjust(2, \"0\")\n",
    "    hour_serie = scalarHour(dt_serie) if hour_serie==None else hour_serie\n",
    "    return [val[:2]+' - '+add(val[:2], 1) if val>'06:00' and val<'14:00' else \\\n",
    "            '14 - '+'14.5' if val>'14:00' and val<'14:30' else \\\n",
    "            '05.5'+' - 06' if val>'05:30' and val<'06:00' else \\\n",
    "            '23.5'+' - 00.5' if (val>='23:30') or (val<'00:30') else \\\n",
    "            (add(val[:2], -1)+'.5')+' - '+val[:2]+'.5' if val[3:5]<'30' else \\\n",
    "            val[:2]+'.5'+' - '+(add(val[:2], 1)+'.5') \\\n",
    "            for val in hour_serie]\n",
    "def apply_scalars(df_, timestamp_col, month_format='str', shift_format_str=True, prefix=None, suffix=None,\n",
    "                  teams_df=None, year=False, month=False, week=False, day=True, shift=True, hour=False,\n",
    "                  hxh=False, weekday=False, merge=True):\n",
    "    \"\"\"\n",
    "    Generates multiple columns containing scalar time information\n",
    "    Args:\n",
    "        df_ (Dataframe): Dataframe to be based on.\n",
    "        timestamp_col (str): Datetime column where all the scalars will be obtained.\n",
    "        month_format (str): Month format, specify 'str', 'Full' or another value to get it in number.\n",
    "        shift_format_str (bool): Shift format, if False returns int values.\n",
    "        prefix (str): Prefix to be added to all the column names.\n",
    "        suffix (str): Suffix to be added to all the column names.\n",
    "        teams_df (Dataframe): Raw dataframe obtained from SCH_TEAM_SHIFTS.\n",
    "        year (bool): If true adds YEAR column.\n",
    "        month (bool): If true adds MONTH column.\n",
    "        week (bool): If true adds WEEK column.\n",
    "        day (bool): If true adds DATE column.\n",
    "        shift (bool): If true adds SHIFT column.\n",
    "        hour (bool): If true adds HOUR column.\n",
    "        hxh (bool): If true adds HXH column.\n",
    "        weekday (bool): If true adds WEEKDAY column.\n",
    "        merge (bool): If true appends all the columns to the passed Dataframe (df_), if false, returns some scalars in another dataframe.\n",
    "    \"\"\"\n",
    "    df = df_.copy()\n",
    "    #Parametros generales\n",
    "    dt_serie = df[timestamp_col]\n",
    "    month_fmt = '%b' if month_format in [str, 'str'] else '%B' if month_format.upper()=='FULL' else '%m'\n",
    "    shift1, shift2, shift3 = ['1', '2', '3'] if shift_format_str==True else [1, 2, 3]\n",
    "    prefix = '' if prefix is None else prefix\n",
    "    suffix = '' if suffix is None else suffix\n",
    "    #Crear series con Hora, Turno y Día\n",
    "    if year or month or week or weekday or day or shift or hour or hxh or teams_df is not None:\n",
    "        hour_serie = scalarHour(dt_serie)\n",
    "    if shift or teams_df is not None:\n",
    "        shift_serie = [np.nan if pd.isnull(val) else \\\n",
    "                       shift1 if val>='06:00:00' and val<'14:30:00' else \\\n",
    "                       shift2 if val>='14:30:00' and val<'22:30:00' else shift3 \\\n",
    "                       for val in hour_serie]\n",
    "    if year or month or week or weekday or day or teams_df is not None:\n",
    "        day_serie = [np.nan if pd.isnull(valH) else \\\n",
    "                     val.strftime('%d/%m/%Y') if valH>='06:00:00' else \\\n",
    "                     (val-dt.timedelta(days=1)).strftime('%d/%m/%Y') \\\n",
    "                     for val, valH in zip(dt_serie, hour_serie)]\n",
    "    #Agregar columna de Hora x Hora\n",
    "    if hxh:\n",
    "        df.loc[:,prefix+'HXH'+suffix] = scalarHxH(dt_serie, hour_serie=hour_serie)\n",
    "    #Agregar columna de Hora\n",
    "    if hour:\n",
    "        df.loc[:,prefix+'HOUR'+suffix] = hour_serie\n",
    "    #Agregar columna de Turno\n",
    "    if shift or teams_df is not None:\n",
    "        df.loc[:,prefix+'SHIFT'+suffix] = shift_serie\n",
    "    #Agregar columna de Día\n",
    "    if year or month or week or weekday or day or teams_df is not None:\n",
    "        df.loc[:,prefix+'DATE'+suffix] = day_serie\n",
    "    #Agregar columna de Grupo\n",
    "    if teams_df is not None:\n",
    "        tmp_teams_df = pd.DataFrame({\n",
    "            prefix+'DATE'+suffix: [val.strftime('%d/%m/%Y') for val in teams_df['CAL_DATE']],\n",
    "            prefix+'SHIFT'+suffix: teams_df['SHF_CODE'].replace([1, 2, 3], [shift1, shift2, shift3]),\n",
    "            prefix+'TEAM_CODE'+suffix: teams_df['TEAM_CODE']\n",
    "        })\n",
    "        if merge:\n",
    "            df = df.merge(tmp_teams_df, how='left')\n",
    "    #Columnas que únicamente dependen del día\n",
    "    if year or month or week or weekday:\n",
    "        #Crear diccionario con los valores únicos del día\n",
    "        unique_day_serie = list(set(day_serie))\n",
    "        unique_info_dict = {prefix+'DATE'+suffix: unique_day_serie}\n",
    "        #Agregue dayfirst en este proyecto en especifico\n",
    "        dt_unique_day_serie = pd.to_datetime(unique_day_serie,dayfirst=True)\n",
    "        #Agregar Día de la semana a diccionario\n",
    "        if weekday:\n",
    "            unique_info_dict[prefix+'WEEKDAY'+suffix] = (dt_unique_day_serie.strftime('%w')).str.replace('0','7')\n",
    "        #Agregar Semana a diccionario\n",
    "        if week:\n",
    "            unique_info_dict[prefix+'WEEK'+suffix] = dt_unique_day_serie.strftime('%V')\n",
    "        #Agregar Mes a diccionario\n",
    "        if month:\n",
    "            unique_info_dict[prefix+'MONTH'+suffix] = dt_unique_day_serie.strftime(month_fmt)\n",
    "        #Agregar Año a diccionario\n",
    "        if year:\n",
    "            unique_info_dict[prefix+'YEAR'+suffix] = dt_unique_day_serie.strftime('%Y')\n",
    "        #Crear dataframe con Días únios y su respectiva Semana, Mes y Año\n",
    "        scalars_unique_df = pd.DataFrame(unique_info_dict)\n",
    "        #Mergear con dataframe\n",
    "        if merge:\n",
    "            df = df.merge(scalars_unique_df, how='left')\n",
    "    #Eliminar columna de Día en caso de haber sido agregada y no solicitada\n",
    "    if year or month or week or teams_df is not None:\n",
    "        if not day:\n",
    "            df = df.drop(columns=prefix+'DATE'+suffix)\n",
    "    #Eliminar columna de Turno en caso de haber sido agregada y no solicitada\n",
    "    if teams_df is not None:\n",
    "        if not shift:\n",
    "            df = df.drop(columns=prefix+'SHIFT'+suffix)\n",
    "    #Retornar un dataframe si merge=False, sino, se retornan por separado los scalars que no son dependientes de la columna datetime\n",
    "    if not merge:\n",
    "        if (year or month or week or weekday) and (teams_df is not None):\n",
    "            scalars_unique_df = scalars_unique_df.merge(tmp_teams_df, how='left')\n",
    "        elif teams_df is not None:\n",
    "            scalars_unique_df = tmp_teams_df\n",
    "        elif year or month or week or weekday:\n",
    "            pass\n",
    "        else:\n",
    "            scalars_unique_df = pd.DataFrame()\n",
    "        return df, scalars_unique_df\n",
    "    else:\n",
    "        return df"
   ]
  },
  {
   "cell_type": "markdown",
   "id": "48ecbb89-10e6-4c82-8783-794261a7dbc3",
   "metadata": {
    "jp-MarkdownHeadingCollapsed": true
   },
   "source": [
    "### Get overall master table"
   ]
  },
  {
   "cell_type": "code",
   "execution_count": 6,
   "id": "77db6b56-cf98-49bc-8877-91294f699cd0",
   "metadata": {},
   "outputs": [],
   "source": [
    "statesUrl=urlCovid['states']"
   ]
  },
  {
   "cell_type": "code",
   "execution_count": 7,
   "id": "399a33eb-7c91-4cd6-a2f8-266ec2643604",
   "metadata": {},
   "outputs": [],
   "source": [
    "# Get the data( all the data and row data)\n",
    "states=managmenteAPI.conection(statesUrl)\n"
   ]
  },
  {
   "cell_type": "code",
   "execution_count": 8,
   "id": "6382dbe2-4fe7-4b3b-9438-01cb5efe01ed",
   "metadata": {},
   "outputs": [],
   "source": [
    "#Rename and transform a kind of data.\n",
    "states=states.rename(columns={'fips':'states'})\n",
    "states.states=states.states.astype('int64')\n"
   ]
  },
  {
   "cell_type": "code",
   "execution_count": 9,
   "id": "3ce61ca0-ef2c-4c9e-9a55-028b406fe8ca",
   "metadata": {
    "scrolled": true
   },
   "outputs": [],
   "source": [
    "HistoricalTraqckingUrl=urlCovid['covidtraqckingHistoric']\n",
    "HistoricalTraqckingDataFrame=managmenteAPI.conection(HistoricalTraqckingUrl)\n"
   ]
  },
  {
   "cell_type": "code",
   "execution_count": 10,
   "id": "87449ff9-a343-4ba4-ae5a-146388432d88",
   "metadata": {},
   "outputs": [],
   "source": [
    "HistoricalTraqckingDataFrame['date']=pd.to_datetime(HistoricalTraqckingDataFrame.date,format='%Y%m%d')\n",
    "HistoricalTraqckingDataFrame=apply_scalars(HistoricalTraqckingDataFrame,'date',year=True, month=True, week=True, shift=False)\n"
   ]
  },
  {
   "cell_type": "code",
   "execution_count": 11,
   "id": "f27ef612-47af-4fe6-ab36-5d239c73344f",
   "metadata": {},
   "outputs": [],
   "source": [
    "#Merge the data\n",
    "\n",
    "HistoricOverallTraqckingCovid=HistoricalTraqckingDataFrame.merge(states,on='state')\n",
    "#_________End get overall mastertable______________"
   ]
  },
  {
   "cell_type": "markdown",
   "id": "28eb4e17-1ace-4635-9c12-def2c6babae4",
   "metadata": {
    "jp-MarkdownHeadingCollapsed": true
   },
   "source": [
    "### Do the Analysis"
   ]
  },
  {
   "cell_type": "code",
   "execution_count": 12,
   "id": "390f2370-ba74-40e3-b83b-cbe7e54a5801",
   "metadata": {},
   "outputs": [
    {
     "data": {
      "text/html": [
       "<div>\n",
       "<style scoped>\n",
       "    .dataframe tbody tr th:only-of-type {\n",
       "        vertical-align: middle;\n",
       "    }\n",
       "\n",
       "    .dataframe tbody tr th {\n",
       "        vertical-align: top;\n",
       "    }\n",
       "\n",
       "    .dataframe thead th {\n",
       "        text-align: right;\n",
       "    }\n",
       "</style>\n",
       "<table border=\"1\" class=\"dataframe\">\n",
       "  <thead>\n",
       "    <tr style=\"text-align: right;\">\n",
       "      <th></th>\n",
       "      <th>date</th>\n",
       "      <th>positive</th>\n",
       "    </tr>\n",
       "  </thead>\n",
       "  <tbody>\n",
       "    <tr>\n",
       "      <th>count</th>\n",
       "      <td>420</td>\n",
       "      <td>4.200000e+02</td>\n",
       "    </tr>\n",
       "    <tr>\n",
       "      <th>mean</th>\n",
       "      <td>2020-08-09 12:00:00</td>\n",
       "      <td>8.097361e+06</td>\n",
       "    </tr>\n",
       "    <tr>\n",
       "      <th>min</th>\n",
       "      <td>2020-01-13 00:00:00</td>\n",
       "      <td>0.000000e+00</td>\n",
       "    </tr>\n",
       "    <tr>\n",
       "      <th>25%</th>\n",
       "      <td>2020-04-26 18:00:00</td>\n",
       "      <td>9.861690e+05</td>\n",
       "    </tr>\n",
       "    <tr>\n",
       "      <th>50%</th>\n",
       "      <td>2020-08-09 12:00:00</td>\n",
       "      <td>5.023652e+06</td>\n",
       "    </tr>\n",
       "    <tr>\n",
       "      <th>75%</th>\n",
       "      <td>2020-11-22 06:00:00</td>\n",
       "      <td>1.230270e+07</td>\n",
       "    </tr>\n",
       "    <tr>\n",
       "      <th>max</th>\n",
       "      <td>2021-03-07 00:00:00</td>\n",
       "      <td>2.875649e+07</td>\n",
       "    </tr>\n",
       "    <tr>\n",
       "      <th>std</th>\n",
       "      <td>NaN</td>\n",
       "      <td>8.965476e+06</td>\n",
       "    </tr>\n",
       "  </tbody>\n",
       "</table>\n",
       "</div>"
      ],
      "text/plain": [
       "                      date      positive\n",
       "count                  420  4.200000e+02\n",
       "mean   2020-08-09 12:00:00  8.097361e+06\n",
       "min    2020-01-13 00:00:00  0.000000e+00\n",
       "25%    2020-04-26 18:00:00  9.861690e+05\n",
       "50%    2020-08-09 12:00:00  5.023652e+06\n",
       "75%    2020-11-22 06:00:00  1.230270e+07\n",
       "max    2021-03-07 00:00:00  2.875649e+07\n",
       "std                    NaN  8.965476e+06"
      ]
     },
     "execution_count": 12,
     "metadata": {},
     "output_type": "execute_result"
    }
   ],
   "source": [
    "#HistoricOverallTraqckingCovid\n",
    "casesPositive=HistoricOverallTraqckingCovid.groupby([\"date\"])[\"positive\"].sum().reset_index(inplace=False)\n",
    "casesPositive.describe()"
   ]
  },
  {
   "cell_type": "code",
   "execution_count": 13,
   "id": "7243fe13-5ab3-4ce0-a209-430faef5abe6",
   "metadata": {},
   "outputs": [
    {
     "data": {
      "text/html": [
       "<div>\n",
       "<style scoped>\n",
       "    .dataframe tbody tr th:only-of-type {\n",
       "        vertical-align: middle;\n",
       "    }\n",
       "\n",
       "    .dataframe tbody tr th {\n",
       "        vertical-align: top;\n",
       "    }\n",
       "\n",
       "    .dataframe thead th {\n",
       "        text-align: right;\n",
       "    }\n",
       "</style>\n",
       "<table border=\"1\" class=\"dataframe\">\n",
       "  <thead>\n",
       "    <tr style=\"text-align: right;\">\n",
       "      <th></th>\n",
       "      <th>date</th>\n",
       "      <th>positiveIncrease</th>\n",
       "    </tr>\n",
       "  </thead>\n",
       "  <tbody>\n",
       "    <tr>\n",
       "      <th>count</th>\n",
       "      <td>20780</td>\n",
       "      <td>20780.000000</td>\n",
       "    </tr>\n",
       "    <tr>\n",
       "      <th>mean</th>\n",
       "      <td>2020-09-02 18:13:30.779595776</td>\n",
       "      <td>1383.849519</td>\n",
       "    </tr>\n",
       "    <tr>\n",
       "      <th>min</th>\n",
       "      <td>2020-01-13 00:00:00</td>\n",
       "      <td>-7757.000000</td>\n",
       "    </tr>\n",
       "    <tr>\n",
       "      <th>25%</th>\n",
       "      <td>2020-06-02 00:00:00</td>\n",
       "      <td>65.000000</td>\n",
       "    </tr>\n",
       "    <tr>\n",
       "      <th>50%</th>\n",
       "      <td>2020-09-03 00:00:00</td>\n",
       "      <td>435.000000</td>\n",
       "    </tr>\n",
       "    <tr>\n",
       "      <th>75%</th>\n",
       "      <td>2020-12-05 00:00:00</td>\n",
       "      <td>1335.250000</td>\n",
       "    </tr>\n",
       "    <tr>\n",
       "      <th>max</th>\n",
       "      <td>2021-03-07 00:00:00</td>\n",
       "      <td>71734.000000</td>\n",
       "    </tr>\n",
       "    <tr>\n",
       "      <th>std</th>\n",
       "      <td>NaN</td>\n",
       "      <td>3023.558742</td>\n",
       "    </tr>\n",
       "  </tbody>\n",
       "</table>\n",
       "</div>"
      ],
      "text/plain": [
       "                                date  positiveIncrease\n",
       "count                          20780      20780.000000\n",
       "mean   2020-09-02 18:13:30.779595776       1383.849519\n",
       "min              2020-01-13 00:00:00      -7757.000000\n",
       "25%              2020-06-02 00:00:00         65.000000\n",
       "50%              2020-09-03 00:00:00        435.000000\n",
       "75%              2020-12-05 00:00:00       1335.250000\n",
       "max              2021-03-07 00:00:00      71734.000000\n",
       "std                              NaN       3023.558742"
      ]
     },
     "execution_count": 13,
     "metadata": {},
     "output_type": "execute_result"
    }
   ],
   "source": [
    "#Increase Overall Traqcking Covid by state\n",
    "IncreasePositive=HistoricOverallTraqckingCovid.groupby([\"date\",\"name\"])[\"positiveIncrease\"].sum().reset_index(inplace=False)\n",
    "IncreasePositive.describe()"
   ]
  },
  {
   "cell_type": "code",
   "execution_count": 14,
   "id": "1125fae4-3f38-4b57-9092-1ee55c2c80b3",
   "metadata": {},
   "outputs": [
    {
     "data": {
      "text/html": [
       "<div>\n",
       "<style scoped>\n",
       "    .dataframe tbody tr th:only-of-type {\n",
       "        vertical-align: middle;\n",
       "    }\n",
       "\n",
       "    .dataframe tbody tr th {\n",
       "        vertical-align: top;\n",
       "    }\n",
       "\n",
       "    .dataframe thead th {\n",
       "        text-align: right;\n",
       "    }\n",
       "</style>\n",
       "<table border=\"1\" class=\"dataframe\">\n",
       "  <thead>\n",
       "    <tr style=\"text-align: right;\">\n",
       "      <th></th>\n",
       "      <th>date</th>\n",
       "      <th>positive</th>\n",
       "    </tr>\n",
       "  </thead>\n",
       "  <tbody>\n",
       "    <tr>\n",
       "      <th>count</th>\n",
       "      <td>20780</td>\n",
       "      <td>2.059200e+04</td>\n",
       "    </tr>\n",
       "    <tr>\n",
       "      <th>mean</th>\n",
       "      <td>2020-09-02 18:13:30.779595776</td>\n",
       "      <td>1.651560e+05</td>\n",
       "    </tr>\n",
       "    <tr>\n",
       "      <th>min</th>\n",
       "      <td>2020-01-13 00:00:00</td>\n",
       "      <td>0.000000e+00</td>\n",
       "    </tr>\n",
       "    <tr>\n",
       "      <th>25%</th>\n",
       "      <td>2020-06-02 00:00:00</td>\n",
       "      <td>5.753750e+03</td>\n",
       "    </tr>\n",
       "    <tr>\n",
       "      <th>50%</th>\n",
       "      <td>2020-09-03 00:00:00</td>\n",
       "      <td>4.606450e+04</td>\n",
       "    </tr>\n",
       "    <tr>\n",
       "      <th>75%</th>\n",
       "      <td>2020-12-05 00:00:00</td>\n",
       "      <td>1.779580e+05</td>\n",
       "    </tr>\n",
       "    <tr>\n",
       "      <th>max</th>\n",
       "      <td>2021-03-07 00:00:00</td>\n",
       "      <td>3.501394e+06</td>\n",
       "    </tr>\n",
       "    <tr>\n",
       "      <th>std</th>\n",
       "      <td>NaN</td>\n",
       "      <td>3.267852e+05</td>\n",
       "    </tr>\n",
       "  </tbody>\n",
       "</table>\n",
       "</div>"
      ],
      "text/plain": [
       "                                date      positive\n",
       "count                          20780  2.059200e+04\n",
       "mean   2020-09-02 18:13:30.779595776  1.651560e+05\n",
       "min              2020-01-13 00:00:00  0.000000e+00\n",
       "25%              2020-06-02 00:00:00  5.753750e+03\n",
       "50%              2020-09-03 00:00:00  4.606450e+04\n",
       "75%              2020-12-05 00:00:00  1.779580e+05\n",
       "max              2021-03-07 00:00:00  3.501394e+06\n",
       "std                              NaN  3.267852e+05"
      ]
     },
     "execution_count": 14,
     "metadata": {},
     "output_type": "execute_result"
    }
   ],
   "source": [
    "#Cases positives of COVID-19 by state, but this is cummulattive cases* We need to know this graph with for detail\n",
    "casesPositiveSecondOpinion=HistoricOverallTraqckingCovid[[\"name\",\"date\",\"positive\"]]\n",
    "casesPositiveSecondOpinion.describe()"
   ]
  },
  {
   "cell_type": "code",
   "execution_count": 15,
   "id": "8f51c525-0891-46a7-a56e-73008141a897",
   "metadata": {},
   "outputs": [],
   "source": [
    "#Pareto for the positive case from Covid.\n",
    "casesPositiveByStates=HistoricOverallTraqckingCovid.groupby([\"name\"])[\"positiveIncrease\"].sum().reset_index(inplace=False)"
   ]
  },
  {
   "cell_type": "code",
   "execution_count": 16,
   "id": "840fc44f-8001-43ba-ac47-77e3cbca7f21",
   "metadata": {},
   "outputs": [
    {
     "data": {
      "text/html": [
       "<div>\n",
       "<style scoped>\n",
       "    .dataframe tbody tr th:only-of-type {\n",
       "        vertical-align: middle;\n",
       "    }\n",
       "\n",
       "    .dataframe tbody tr th {\n",
       "        vertical-align: top;\n",
       "    }\n",
       "\n",
       "    .dataframe thead th {\n",
       "        text-align: right;\n",
       "    }\n",
       "</style>\n",
       "<table border=\"1\" class=\"dataframe\">\n",
       "  <thead>\n",
       "    <tr style=\"text-align: right;\">\n",
       "      <th></th>\n",
       "      <th>positiveIncrease</th>\n",
       "    </tr>\n",
       "  </thead>\n",
       "  <tbody>\n",
       "    <tr>\n",
       "      <th>count</th>\n",
       "      <td>5.600000e+01</td>\n",
       "    </tr>\n",
       "    <tr>\n",
       "      <th>mean</th>\n",
       "      <td>5.135070e+05</td>\n",
       "    </tr>\n",
       "    <tr>\n",
       "      <th>std</th>\n",
       "      <td>6.480319e+05</td>\n",
       "    </tr>\n",
       "    <tr>\n",
       "      <th>min</th>\n",
       "      <td>0.000000e+00</td>\n",
       "    </tr>\n",
       "    <tr>\n",
       "      <th>25%</th>\n",
       "      <td>1.014488e+05</td>\n",
       "    </tr>\n",
       "    <tr>\n",
       "      <th>50%</th>\n",
       "      <td>3.346750e+05</td>\n",
       "    </tr>\n",
       "    <tr>\n",
       "      <th>75%</th>\n",
       "      <td>6.302550e+05</td>\n",
       "    </tr>\n",
       "    <tr>\n",
       "      <th>max</th>\n",
       "      <td>3.501341e+06</td>\n",
       "    </tr>\n",
       "  </tbody>\n",
       "</table>\n",
       "</div>"
      ],
      "text/plain": [
       "       positiveIncrease\n",
       "count      5.600000e+01\n",
       "mean       5.135070e+05\n",
       "std        6.480319e+05\n",
       "min        0.000000e+00\n",
       "25%        1.014488e+05\n",
       "50%        3.346750e+05\n",
       "75%        6.302550e+05\n",
       "max        3.501341e+06"
      ]
     },
     "execution_count": 16,
     "metadata": {},
     "output_type": "execute_result"
    }
   ],
   "source": [
    "casesPositiveByStates.describe()"
   ]
  },
  {
   "cell_type": "markdown",
   "id": "d20a23ad-f423-4715-9d7b-1af282127f51",
   "metadata": {},
   "source": [
    "### Get a table with the graphs"
   ]
  },
  {
   "cell_type": "code",
   "execution_count": 17,
   "id": "49e9c76c-069e-4901-afd8-4fa6df678ea8",
   "metadata": {},
   "outputs": [],
   "source": [
    "from bokeh.layouts import column,gridplot\n",
    "from bokeh.models import LogColorMapper,ColumnDataSource,CustomJS,Range1d,LinearAxis,HoverTool,NumeralTickFormatter,Slider,RangeTool\n",
    "from bokeh.models.widgets import DataTable,TableColumn,Select\n",
    "from bokeh.plotting import save, output_file,show,figure\n",
    "from bokeh.sampledata.us_states import data as states\n",
    "from bokeh.palettes import YlOrRd9 as palette\n",
    "from bokeh.io import curdoc"
   ]
  },
  {
   "cell_type": "code",
   "execution_count": 53,
   "id": "9e3458fc-8e6d-4a4d-8bd5-5eaf0ecf6c53",
   "metadata": {},
   "outputs": [],
   "source": [
    "from bokeh.palettes import Turbo256"
   ]
  },
  {
   "cell_type": "markdown",
   "id": "c7988363-d736-48e1-950a-42990e397100",
   "metadata": {},
   "source": [
    "### First graph from Postive case"
   ]
  },
  {
   "cell_type": "markdown",
   "id": "19d8971c-c7d8-4285-8087-e1f6fa8f4b21",
   "metadata": {
    "jp-MarkdownHeadingCollapsed": true
   },
   "source": [
    "### Grafica dinamica de barras"
   ]
  },
  {
   "cell_type": "code",
   "execution_count": 18,
   "id": "f9e70036-8cff-4f9f-a421-93a837479ae5",
   "metadata": {},
   "outputs": [],
   "source": [
    "def DinamicGraphFit(DataFrame,columnname,width=500,height=500):\n",
    "    \"\"\" This function return a dinamic graph, for show in your browser\"\"\"\n",
    "\n",
    "    #Define the sources\n",
    "    sources=ColumnDataSource(DataFrame)\n",
    "    original_sources=ColumnDataSource(DataFrame)\n",
    "\n",
    "    #Define the figure(target object)\n",
    "    figure1=figure(x_axis_type=\"datetime\",title=\"Death for month for year\",\n",
    "            width=width,height=height,\n",
    "            tools='reset,box_zoom',toolbar_location='below'\n",
    "            )\n",
    "    figure1.xgrid.grid_line_color = None\n",
    "    figure1.xaxis.major_label_orientation = 1\n",
    "        \n",
    "    #Create the Graphs\n",
    "    figure1.vbar(\n",
    "        x='date',top=columnname,width=1,fill_color=\"#a442f5\",source=sources\n",
    "        )\n",
    "    figure1.y_range.start=0\n",
    "    \n",
    "    #Define the selectors\n",
    "    Name_list=[\"ALL\"]+DataFrame[\"name\"].unique().tolist()\n",
    "    Name_select=Select(title=\"States\",value=Name_list[0],options=Name_list)\n",
    "\n",
    "    #Define the callback from java script\n",
    "    callback_changes_js=\"\"\"\n",
    "    var data=sources.data; //Get data\n",
    "    var original_data=original_sources.data;\n",
    "    var name_value=Name_select.value;\n",
    "    console.log(\"Name\"+name_value);\n",
    "    for(var key in original_data){\n",
    "        data[key]=[];\n",
    "        for(var i=0; i < original_data['date'].length;++i){\n",
    "            if(name_value === \"ALL\"||original_data['name'][i]===name_value){\n",
    "                data[key].push(original_data[key][i]);\n",
    "            }\n",
    "        }\n",
    "    }\n",
    "    sources.change.emit();\n",
    "    target_obj.change.emit();\n",
    "    \"\"\"\n",
    "    #Create the generic_callback\n",
    "    generic_callback=CustomJS(\n",
    "    args=dict(sources=sources,\n",
    "              original_sources=original_sources,\n",
    "              Name_select=Name_select,\n",
    "              target_obj=figure1),\n",
    "    code=callback_changes_js        \n",
    "    )\n",
    "    \n",
    "    #Define the action from the selectors\n",
    "    Name_select.js_on_change('value',generic_callback)\n",
    "    figure2 = column(Name_select,figure1)\n",
    "    return figure2"
   ]
  },
  {
   "cell_type": "markdown",
   "id": "2569a906-bb5c-4422-ad41-cd01d533c547",
   "metadata": {
    "jp-MarkdownHeadingCollapsed": true
   },
   "source": [
    "### Grafica de linea dinamica"
   ]
  },
  {
   "cell_type": "code",
   "execution_count": 19,
   "id": "2f496329-0d17-4107-af8e-f881bbbe4764",
   "metadata": {},
   "outputs": [],
   "source": [
    "def DinamicSeriesTime(DataFrame,column_values,width=500,height=500):\n",
    "    \"\"\" This function return a dinamic graph, for show in your browser\"\"\"\n",
    "\n",
    "    #Define the sources\n",
    "    sources=ColumnDataSource(DataFrame)\n",
    "    original_sources=ColumnDataSource(DataFrame)\n",
    "\n",
    "    #Define the figure(target object)\n",
    "    figure1=figure(x_axis_type=\"datetime\",title=\"Death for month for year\",\n",
    "            width=width,height=height,\n",
    "            tools='reset,box_zoom',toolbar_location='below'\n",
    "            )\n",
    "    #Set the axis from the graphs\n",
    "    figure1.xgrid.grid_line_color = None\n",
    "    figure1.xaxis.major_label_orientation = 1\n",
    "    #figure1.y_range.start=0\n",
    "        \n",
    "    #Create the Main Graph\n",
    "    figure1.line(\n",
    "        x='date',y=column_values,width=1,line_color=\"#a442f5\",source=sources\n",
    "        )\n",
    "    \n",
    "    #Define the part for select the graph\n",
    "    select = figure(title=\"Drag the middle and edges of the selection box to change the range above\",\n",
    "                height=int(height/4),width=width, y_range=figure1.y_range,\n",
    "                x_axis_type=\"datetime\", y_axis_type=None,\n",
    "                tools=\"\", toolbar_location=None, background_fill_color=\"#efefef\")\n",
    "\n",
    "    #Create the secondary graph\n",
    "    select.line(x='date',y=column_values, source=sources)\n",
    "    #Set the axis\n",
    "    select.ygrid.grid_line_color = None\n",
    "    \n",
    "\n",
    "    # Define the selector from the date    \n",
    "    range_tool = RangeTool(x_range=figure1.x_range)\n",
    "    range_tool.overlay.fill_color = \"navy\"\n",
    "    range_tool.overlay.fill_alpha = 0.2\n",
    "    \n",
    "    #Add the tool from select\n",
    "    select.add_tools(range_tool)\n",
    "    \n",
    "    #**Define the selectors\n",
    "    Name_list=[\"ALL\"]+DataFrame[\"name\"].unique().tolist()\n",
    "    Name_select=Select(title=\"State\",value=Name_list[0],options=Name_list)\n",
    "\n",
    "    #Define the callback from java script\n",
    "    callback_changes_js=\"\"\"\n",
    "    var data=sources.data; //Get data\n",
    "    var original_data=original_sources.data;\n",
    "    var name_value=Name_select.value;\n",
    "    console.log(\"Name\"+name_value);\n",
    "    for(var key in original_data){\n",
    "        data[key]=[];\n",
    "        for(var i=0; i < original_data['date'].length;++i){\n",
    "            if(name_value === \"ALL\"||original_data['name'][i]===name_value){\n",
    "                data[key].push(original_data[key][i]);\n",
    "            }\n",
    "        }\n",
    "    }\n",
    "    sources.change.emit();\n",
    "    target_obj.change.emit();\n",
    "    \"\"\"\n",
    "    #Create the generic_callback\n",
    "    generic_callback=CustomJS(\n",
    "    args=dict(sources=sources,\n",
    "              original_sources=original_sources,\n",
    "              Name_select=Name_select,\n",
    "              target_obj=figure1),\n",
    "    code=callback_changes_js        \n",
    "    )\n",
    "\n",
    "    \n",
    "    \n",
    "    #Define the action from the selectors\n",
    "    Name_select.js_on_change('value',generic_callback)\n",
    "    GraphTime=column(Name_select,figure1, select)\n",
    "    return GraphTime"
   ]
  },
  {
   "cell_type": "markdown",
   "id": "aaaaa6a7-aff2-4b78-af19-a7bff0e5f6bb",
   "metadata": {
    "jp-MarkdownHeadingCollapsed": true
   },
   "source": [
    "### Grafica de Pareto"
   ]
  },
  {
   "cell_type": "code",
   "execution_count": 20,
   "id": "801acf17-3af5-4e59-a896-f04b252ede63",
   "metadata": {},
   "outputs": [],
   "source": [
    "def Pareto(DATA_FRAME,column_index,column_values,color=\"#9B59B6\",width=500,height=500):\n",
    "    \n",
    "    #Do pareto table.\n",
    "    TOTAL=DATA_FRAME[column_values].sum()\n",
    "    DATA_FRAME=DATA_FRAME.sort_values(by=column_values,ascending=False)\n",
    "    DATA_FRAME['Porcentaje']=100*(DATA_FRAME[column_values]/TOTAL)\n",
    "    DATA_FRAME['Porcentaje_acumulado']=DATA_FRAME['Porcentaje'].cumsum()\n",
    "    \n",
    "    #Set pareto table how the source of next graphs.\n",
    "    DataSourse=ColumnDataSource(DATA_FRAME)\n",
    "    \n",
    "    #Create the figure called figure 1\n",
    "    figure1=figure(\n",
    "        x_range=DATA_FRAME[column_index],title=column_values,\n",
    "        width=width,height=height,\n",
    "        tools='reset,box_zoom',toolbar_location='below'\n",
    "        )\n",
    "    \n",
    "    #General sets, how label´s name, color´s grid etc.\n",
    "    figure1.xgrid.grid_line_color=None\n",
    "    figure1.xaxis.axis_label=column_index\n",
    "    figure1.xaxis.major_label_text_font_size='15px'\n",
    "    figure1.yaxis.axis_label=\"$\"+column_values\n",
    "    figure1.xgrid.grid_line_color=None\n",
    "    figure1.ygrid.grid_line_alpha=0.7\n",
    "    figure1.toolbar.autohide=True\n",
    "    figure1.y_range.start = 0\n",
    "    figure1.x_range.range_padding = 0.1\n",
    "    figure1.xaxis.major_label_orientation = 1\n",
    "    figure1.xgrid.grid_line_color = None\n",
    "    \n",
    "    # Create the seconde y axis for the % acumulate\n",
    "    figure1.extra_y_ranges = {\"y2\": Range1d(start = 0, end = 110)}\n",
    "    figure1.add_layout(LinearAxis(y_range_name = \"y2\"), 'right')\n",
    "    \n",
    "    #Create the Graphs\n",
    "    figure1.vbar(\n",
    "        x=column_index,top=column_values,\n",
    "        width=0.9,fill_color=color,\n",
    "        line_color=\"#2E4053\",source=DataSourse\n",
    "        )\n",
    "    figure1.line(\n",
    "        x=column_index,y='Porcentaje_acumulado',\n",
    "        y_range_name='y2',source=DataSourse\n",
    "        )\n",
    "    figure1.scatter(\n",
    "        x=column_index,y='Porcentaje_acumulado',\n",
    "        y_range_name='y2',source=DataSourse)\n",
    "    \n",
    "    #Create the hover for can show the values of graph\n",
    "    hover=HoverTool(\n",
    "        tooltips=[\n",
    "            (column_index,'@'+column_values),\n",
    "            ('% profit acumulete','@Porcentaje_acumulado'), \n",
    "            ('% profit','@Porcentaje')]\n",
    "            )\n",
    "    figure1.add_tools(hover)\n",
    "    return figure1"
   ]
  },
  {
   "cell_type": "markdown",
   "id": "635f8bb1-aeed-4817-8350-d11a945d5bc1",
   "metadata": {},
   "source": [
    "### Dinamic Pareto"
   ]
  },
  {
   "cell_type": "code",
   "execution_count": 21,
   "id": "01c55507-7252-4b5c-b33e-71e7e653bf6b",
   "metadata": {},
   "outputs": [],
   "source": [
    "def ParetoDinamic(DATA_FRAME,column_index,column_values,color=\"#9B59B6\",width=500,height=500,initial=5):\n",
    "    \n",
    "    #Do pareto table.\n",
    "    TOTAL=DATA_FRAME[column_values].sum()\n",
    "    DATA_FRAME=DATA_FRAME.sort_values(by=column_values,ascending=False)\n",
    "    DATA_FRAME['Porcentaje']=100*(DATA_FRAME[column_values]/TOTAL)\n",
    "    DATA_FRAME['Porcentaje_acumulado']=DATA_FRAME['Porcentaje'].cumsum()\n",
    "    \n",
    "    #Set pareto table how the source of next graphs.\n",
    "    DataSourse=ColumnDataSource(DATA_FRAME)\n",
    "    \n",
    "    #Create the figure called figure 1\n",
    "    figure1=figure(\n",
    "        x_range=DataSourse.data[f\"{column_index}\"][:initial],title=column_values,\n",
    "        width=width,height=height,\n",
    "        tools='reset,box_zoom',toolbar_location='below'\n",
    "        )\n",
    "    \n",
    "    #General sets, how label´s name, color´s grid etc.\n",
    "    figure1.xgrid.grid_line_color=None\n",
    "    figure1.xaxis.axis_label=column_index\n",
    "    figure1.xaxis.major_label_text_font_size='15px'\n",
    "    figure1.yaxis.axis_label=column_values\n",
    "    figure1.xgrid.grid_line_color=None\n",
    "    figure1.ygrid.grid_line_alpha=0.7\n",
    "    figure1.toolbar.autohide=True\n",
    "    figure1.y_range.start = 0\n",
    "    figure1.x_range.range_padding = 0.1\n",
    "    figure1.xaxis.major_label_orientation = 1\n",
    "    figure1.xgrid.grid_line_color = None\n",
    "    figure1.yaxis.formatter = NumeralTickFormatter(format=\"0,0\")  # format y-axis ticks\n",
    "    \n",
    "    # Create the seconde y axis for the % acumulate\n",
    "    figure1.extra_y_ranges = {\"y2\": Range1d(start = 0, end = 110)}\n",
    "    figure1.add_layout(LinearAxis(y_range_name = \"y2\"), 'right')\n",
    "    \n",
    "    #Create the Graphs\n",
    "    GRAPHBAR=figure1.vbar(\n",
    "        x=column_index,top=column_values,\n",
    "        width=0.9,fill_color=color,\n",
    "        line_color=\"#2E4053\",source=DataSourse\n",
    "        )\n",
    "    GRAPHLINE=figure1.line(\n",
    "        x=column_index,y='Porcentaje_acumulado',\n",
    "        y_range_name='y2',source=DataSourse\n",
    "        )\n",
    "    GRAPHSCATTER=figure1.scatter(\n",
    "        x=column_index,y='Porcentaje_acumulado',\n",
    "        y_range_name='y2',source=DataSourse)\n",
    "    \n",
    "    #Create the hover for can show the values of graph\n",
    "    hover=HoverTool(\n",
    "        tooltips=[\n",
    "            (column_index,'@'+column_values),\n",
    "            ('% profit acumulete','@Porcentaje_acumulado'), \n",
    "            ('% profit','@Porcentaje')]\n",
    "            )\n",
    "    figure1.add_tools(hover)\n",
    "    \n",
    "    number_slider = Slider(\n",
    "        start=1,\n",
    "        end=len(DataSourse.data[f\"{column_index}\"]),\n",
    "        value=len(figure1.x_range.factors),\n",
    "        title=\"Number of states\",\n",
    "    )\n",
    "\n",
    "    custom_js = CustomJS(\n",
    "        args={  # the args parameter is a dictionary of the variables that will be accessible in the JavaScript code\n",
    "            \"figure1\": figure1, \n",
    "            \"DataSourse\": DataSourse.data[f\"{column_index}\"],\n",
    "        },\n",
    "        code=\"\"\"\n",
    "        figure1.title.text = \"Top \" + this.value + \" states from USA\";  \n",
    "        figure1.x_range.factors = DataSourse.slice(0,this.value);\n",
    "        \"\"\",\n",
    "        )\n",
    "    number_slider.js_on_change(\"value\", custom_js)\n",
    "    dinamicGraph = column([number_slider, figure1], sizing_mode=\"stretch_width\")\n",
    "    \n",
    "    return dinamicGraph"
   ]
  },
  {
   "cell_type": "code",
   "execution_count": 56,
   "id": "8787d0c7-b01e-4a56-823c-de95117178ef",
   "metadata": {},
   "outputs": [],
   "source": [
    "def ParetoDinamicColors(DATA_FRAME,column_index,column_values,palette=Turbo256,width=500,height=500,initial=5):\n",
    "    #Set the color\n",
    "    Turbo256=tuple(reversed(Turbo256))\n",
    "    SizeDataFrame=DATA_FRAME[column_values].count()\n",
    "    TurboFitSize=[Turbo256[i] for i in range(SizeDataFrame)]\n",
    "    #Do pareto table.\n",
    "    TOTAL=DATA_FRAME[column_values].sum()\n",
    "    DATA_FRAME=DATA_FRAME.sort_values(by=column_values,ascending=False)\n",
    "    DATA_FRAME['Porcentaje']=100*(DATA_FRAME[column_values]/TOTAL)\n",
    "    DATA_FRAME['Porcentaje_acumulado']=DATA_FRAME['Porcentaje'].cumsum()\n",
    "    DATA_FRAME['Color']=TurboFitSize\n",
    "    \n",
    "    #Set pareto table how the source of next graphs.\n",
    "    DataSourse=ColumnDataSource(DATA_FRAME)\n",
    "    \n",
    "    #Create the figure called figure 1\n",
    "    figure1=figure(\n",
    "        x_range=DataSourse.data[f\"{column_index}\"][:initial],title=column_values,\n",
    "        width=width,height=height,\n",
    "        tools='reset,box_zoom',toolbar_location='below'\n",
    "        )\n",
    "    \n",
    "    #General sets, how label´s name, color´s grid etc.\n",
    "    figure1.xgrid.grid_line_color=None\n",
    "    figure1.xaxis.axis_label=column_index\n",
    "    figure1.xaxis.major_label_text_font_size='15px'\n",
    "    figure1.yaxis.axis_label=column_values\n",
    "    figure1.xgrid.grid_line_color=None\n",
    "    figure1.ygrid.grid_line_alpha=0.7\n",
    "    figure1.toolbar.autohide=True\n",
    "    figure1.y_range.start = 0\n",
    "    figure1.x_range.range_padding = 0.1\n",
    "    figure1.xaxis.major_label_orientation = 1\n",
    "    figure1.xgrid.grid_line_color = None\n",
    "    figure1.yaxis.formatter = NumeralTickFormatter(format=\"0,0\")  # format y-axis ticks\n",
    "    \n",
    "    # Create the seconde y axis for the % acumulate\n",
    "    figure1.extra_y_ranges = {\"y2\": Range1d(start = 0, end = 110)}\n",
    "    figure1.add_layout(LinearAxis(y_range_name = \"y2\"), 'right')\n",
    "    \n",
    "    #Create the Graphs\n",
    "    GRAPHBAR=figure1.vbar(\n",
    "        x=column_index,top=column_values,\n",
    "        width=0.9,fill_color='Color',\n",
    "        line_color=\"#2E4053\",source=DataSourse\n",
    "        )\n",
    "    GRAPHLINE=figure1.line(\n",
    "        x=column_index,y='Porcentaje_acumulado',\n",
    "        y_range_name='y2',source=DataSourse\n",
    "        )\n",
    "    GRAPHSCATTER=figure1.scatter(\n",
    "        x=column_index,y='Porcentaje_acumulado',\n",
    "        y_range_name='y2',source=DataSourse)\n",
    "    \n",
    "    #Create the hover for can show the values of graph\n",
    "    hover=HoverTool(\n",
    "        tooltips=[\n",
    "            (column_index,'@'+column_values),\n",
    "            ('% profit acumulete','@Porcentaje_acumulado'), \n",
    "            ('% profit','@Porcentaje')]\n",
    "            )\n",
    "    figure1.add_tools(hover)\n",
    "    \n",
    "    number_slider = Slider(\n",
    "        start=1,\n",
    "        end=len(DataSourse.data[f\"{column_index}\"]),\n",
    "        value=len(figure1.x_range.factors),\n",
    "        title=\"Number of states\",\n",
    "    )\n",
    "\n",
    "    custom_js = CustomJS(\n",
    "        args={  # the args parameter is a dictionary of the variables that will be accessible in the JavaScript code\n",
    "            \"figure1\": figure1, \n",
    "            \"DataSourse\": DataSourse.data[f\"{column_index}\"],\n",
    "        },\n",
    "        code=\"\"\"\n",
    "        figure1.title.text = \"Top \" + this.value + \" states from USA\";  \n",
    "        figure1.x_range.factors = DataSourse.slice(0,this.value);\n",
    "        \"\"\",\n",
    "        )\n",
    "    number_slider.js_on_change(\"value\", custom_js)\n",
    "    dinamicGraph = column([number_slider, figure1], sizing_mode=\"stretch_width\")\n",
    "    \n",
    "    return dinamicGraph"
   ]
  },
  {
   "cell_type": "markdown",
   "id": "253ec0be-9ae5-467a-8fdb-ccc46df53b9a",
   "metadata": {
    "jp-MarkdownHeadingCollapsed": true
   },
   "source": [
    "### Graph Time Series"
   ]
  },
  {
   "cell_type": "code",
   "execution_count": 22,
   "id": "72718df6-edca-4f17-9e1c-3c4443976317",
   "metadata": {},
   "outputs": [],
   "source": [
    "def timeSerieGraph(DATA_FRAME,column_values):\n",
    "    source = ColumnDataSource(DATA_FRAME)\n",
    "    figure1 = figure(height=300, width=800, tools=\"xpan\", toolbar_location=None,\n",
    "           x_axis_type=\"datetime\", x_axis_location=\"above\",\n",
    "           background_fill_color=\"#efefef\")#, x_range=(dates[1500], dates[2500]))\n",
    "\n",
    "    figure1.line(x='date',y=column_values, source=source)\n",
    "    figure1.yaxis.axis_label = 'Price'\n",
    "    select = figure(title=\"Drag the middle and edges of the selection box to change the range above\",\n",
    "                height=130, width=800, y_range=figure1.y_range,\n",
    "                x_axis_type=\"datetime\", y_axis_type=None,\n",
    "                tools=\"\", toolbar_location=None, background_fill_color=\"#efefef\")\n",
    "    range_tool = RangeTool(x_range=figure1.x_range)\n",
    "    range_tool.overlay.fill_color = \"navy\"\n",
    "    range_tool.overlay.fill_alpha = 0.2\n",
    "    \n",
    "    select.line(x='date', y=column_values, source=source)\n",
    "    select.ygrid.grid_line_color = None\n",
    "    select.add_tools(range_tool)\n",
    "\n",
    "    GraphTime=column(figure1, select)\n",
    "    return figure1"
   ]
  },
  {
   "cell_type": "markdown",
   "id": "d7dc72e7-1ad7-4406-850a-724e21f43436",
   "metadata": {
    "jp-MarkdownHeadingCollapsed": true
   },
   "source": [
    "### Map Graph "
   ]
  },
  {
   "cell_type": "code",
   "execution_count": 23,
   "id": "afe2bbcd-fa24-413e-9d85-2c5945e05318",
   "metadata": {},
   "outputs": [],
   "source": [
    "def MapDinamic(DataFrame,column_values,palette,width=800,height=500,ranges=None):\n",
    "    curdoc().theme = 'dark_minimal'\n",
    "    palette=tuple(reversed(palette))\n",
    "    color_mapper=LogColorMapper(palette=palette)\n",
    "    DataSources=ColumnDataSource(DataFrame)\n",
    "    figure1=figure(\n",
    "        title=\"USA States TEST\",\n",
    "        width=width,\n",
    "        height=height,\n",
    "        x_axis_location=None,\n",
    "        y_axis_location=None,\n",
    "        tooltips=[\n",
    "            (\"Name\",\"@name\"),\n",
    "            (f\"{column_values}\",f\"@{column_values}\")])\n",
    "\n",
    "    figure1.grid.grid_line_color=None\n",
    "    figure1.hover.point_policy=\"follow_mouse\"\n",
    "    figure1.patches(\"cordenate_x\",\"cordenate_y\",\n",
    "                    source=DataSources,\n",
    "                    fill_color={\"field\":f\"{column_values}\",\n",
    "                                \"transform\":color_mapper},\n",
    "                    fill_alpha=0.6,\n",
    "                    line_color=\"black\",\n",
    "                    line_width=0.5)\n",
    "    if ranges==None:\n",
    "        return figure1\n",
    "    else:\n",
    "        figure1.x_range=Range1d(ranges[\"lix1\"],ranges[\"lsx2\"])\n",
    "        figure1.y_range=Range1d(ranges[\"liy1\"],ranges[\"lsy2\"])\n",
    "        return figure1\n",
    "    \n"
   ]
  },
  {
   "cell_type": "markdown",
   "id": "640d1d3d-0c6e-463e-9a82-55e1d20faaa6",
   "metadata": {
    "jp-MarkdownHeadingCollapsed": true
   },
   "source": [
    "### Graph from bars Static"
   ]
  },
  {
   "cell_type": "code",
   "execution_count": 24,
   "id": "e6571a67-2ad2-41c6-940f-05d9691bc778",
   "metadata": {},
   "outputs": [],
   "source": [
    "def StaticGraphFit(DataFrame,columnname,width=500,height=500):\n",
    "    \"\"\" This function return a static graph, for show in your browser\"\"\"\n",
    "\n",
    "    #Define the sources\n",
    "    sources=ColumnDataSource(DataFrame)\n",
    "    original_sources=ColumnDataSource(DataFrame)\n",
    "\n",
    "    #Define the figure(target object)\n",
    "    figure1=figure(x_axis_type=\"datetime\",title=\"Death for month for year\",\n",
    "            width=width,height=height,\n",
    "            tools='reset,box_zoom',toolbar_location='below'\n",
    "            )\n",
    "    figure1.xgrid.grid_line_color = None\n",
    "    figure1.xaxis.major_label_orientation = 1\n",
    "        \n",
    "    #Create the Graphs\n",
    "    figure1.vbar(\n",
    "        x='date',top=columnname,width=0.9,source=sources\n",
    "        )\n",
    "    figure1.y_range.start=0\n",
    "    \n",
    "    return figure1"
   ]
  },
  {
   "cell_type": "markdown",
   "id": "589aa112-90dd-4d46-a9d2-21a331e646a7",
   "metadata": {
    "jp-MarkdownHeadingCollapsed": true
   },
   "source": [
    "### Dinamic Graphs "
   ]
  },
  {
   "cell_type": "code",
   "execution_count": 25,
   "id": "208dbf70-607e-4d8b-a312-f4048b1f605b",
   "metadata": {},
   "outputs": [],
   "source": [
    "##Increase cases positives from covid by state\n",
    "IncreaseCaseCovidGraph=DinamicGraphFit(IncreasePositive,\"positiveIncrease\",width=600,height=500)"
   ]
  },
  {
   "cell_type": "code",
   "execution_count": 26,
   "id": "60172b3a-5e0c-433a-b9fe-02c5a0414f08",
   "metadata": {},
   "outputs": [],
   "source": [
    "#IncreaseCaseCovidGraphLine=DinamicGraphLine(IncreasePositive,\"positiveIncrease\")"
   ]
  },
  {
   "cell_type": "markdown",
   "id": "e518979f-a5db-48e7-bf5b-a3af52045fc7",
   "metadata": {
    "jp-MarkdownHeadingCollapsed": true
   },
   "source": [
    "### Static graphs"
   ]
  },
  {
   "cell_type": "code",
   "execution_count": 27,
   "id": "c0d4c13e-ec23-4ecb-a5a2-fca66613c6f8",
   "metadata": {},
   "outputs": [],
   "source": [
    "## All the case positive for date\n",
    "CumulativeIncreaseCaseCovidOfficial=StaticGraphFit(casesPositive,\"positive\",width=700,height=600)"
   ]
  },
  {
   "cell_type": "code",
   "execution_count": 28,
   "id": "d6285c81-bf79-43f3-b9bf-c4c431e4d8d9",
   "metadata": {},
   "outputs": [],
   "source": [
    "#Pareto\n",
    "#def Pareto(DATA_FRAME,column_index,column_values,color=\"#9B59B6\",width=500,height=300)\n",
    "paretoByStateFromCasePositiveCovid=Pareto(casesPositiveByStates,\"name\",\"positiveIncrease\",width=700,height=600)"
   ]
  },
  {
   "cell_type": "markdown",
   "id": "a9253636-a894-40b1-8f81-646904760ff0",
   "metadata": {},
   "source": [
    "### Test with the dinamic Pareto"
   ]
  },
  {
   "cell_type": "code",
   "execution_count": 57,
   "id": "856eb259-82e4-42a3-a07a-d8d661c095f2",
   "metadata": {},
   "outputs": [],
   "source": [
    "New1Pareto=ParetoDinamicColors(casesPositiveByStates,\"name\",\"positiveIncrease\",width=700,height=600)\n",
    "show(New1Pareto)"
   ]
  },
  {
   "cell_type": "code",
   "execution_count": 30,
   "id": "b6c1a2ad-b7e5-4658-9b77-1c329e8618b4",
   "metadata": {},
   "outputs": [],
   "source": [
    "#listGraphs2=[[IncreaseCaseCovidGraph,CumulativeIncreaseCaseCovidOfficial],[New6Pareto,None]]\n",
    "#gridPlot2=gridplot(listGraphs2)\n",
    "#show(gridPlot2)"
   ]
  },
  {
   "cell_type": "markdown",
   "id": "cd10b347-46b4-48f2-a01d-df4d7ceb8568",
   "metadata": {
    "jp-MarkdownHeadingCollapsed": true
   },
   "source": [
    "### Dinamic Time Series Graph"
   ]
  },
  {
   "cell_type": "code",
   "execution_count": 31,
   "id": "143ca7bc-e0b5-4ff0-b0ea-3b745c5c7d7b",
   "metadata": {},
   "outputs": [],
   "source": [
    "#IncreaseCaseCovidGraph=DinamicGraphFit(IncreasePositive,\"positiveIncrease\",width=600,height=500)\n",
    "TimeSeriesIncreaseCovid2=timeSerieGraph(IncreasePositive,\"positiveIncrease\")\n"
   ]
  },
  {
   "cell_type": "markdown",
   "id": "41dc485b-c020-431d-b23b-2f15dfbc9689",
   "metadata": {
    "jp-MarkdownHeadingCollapsed": true
   },
   "source": [
    "### Map Graph"
   ]
  },
  {
   "cell_type": "code",
   "execution_count": 32,
   "id": "99496809-d736-467e-8ee0-351e831f6643",
   "metadata": {},
   "outputs": [],
   "source": [
    "#This is important part, becouse this part is for get the cordenates from the states\n",
    "name_states=[state['name'] for state in states.values() if (state['name']==\"Alaska\" or state['name']==\"Hawaii\")]\n",
    "states_xs=[state['lons'] for state in states.values() if (state['name']==\"Alaska\" or state['name']==\"Hawaii\")]\n",
    "states_ys=[state['lats'] for state in states.values() if (state['name']==\"Alaska\" or state['name']==\"Hawaii\")]\n",
    "#This is important geographic part, becouse we get a dataFrame wit all the cordenates\n",
    "Geographic_data=dict(\n",
    "    cordenate_x=states_xs,\n",
    "    cordenate_y=states_ys,\n",
    "    name=name_states,\n",
    ")\n",
    "GeographicDataFrame=pd.DataFrame(Geographic_data)"
   ]
  },
  {
   "cell_type": "code",
   "execution_count": 33,
   "id": "eb3e0f33-c0d8-4536-9686-15628202e46b",
   "metadata": {},
   "outputs": [],
   "source": [
    "GeographicRateDataFrame=GeographicDataFrame.merge(casesPositiveByStates,on=\"name\")"
   ]
  },
  {
   "cell_type": "code",
   "execution_count": 34,
   "id": "4885d584-7aaa-468e-a053-a68f9c6f2ba5",
   "metadata": {},
   "outputs": [
    {
     "data": {
      "text/html": [
       "<div>\n",
       "<style scoped>\n",
       "    .dataframe tbody tr th:only-of-type {\n",
       "        vertical-align: middle;\n",
       "    }\n",
       "\n",
       "    .dataframe tbody tr th {\n",
       "        vertical-align: top;\n",
       "    }\n",
       "\n",
       "    .dataframe thead th {\n",
       "        text-align: right;\n",
       "    }\n",
       "</style>\n",
       "<table border=\"1\" class=\"dataframe\">\n",
       "  <thead>\n",
       "    <tr style=\"text-align: right;\">\n",
       "      <th></th>\n",
       "      <th>cordenate_x</th>\n",
       "      <th>cordenate_y</th>\n",
       "      <th>name</th>\n",
       "      <th>positiveIncrease</th>\n",
       "    </tr>\n",
       "  </thead>\n",
       "  <tbody>\n",
       "    <tr>\n",
       "      <th>0</th>\n",
       "      <td>[-157.63525, -157.6481, -157.68938, -157.7197,...</td>\n",
       "      <td>[21.24683, 21.23619, 21.20918, 21.20949, 21.21...</td>\n",
       "      <td>Hawaii</td>\n",
       "      <td>28699</td>\n",
       "    </tr>\n",
       "    <tr>\n",
       "      <th>1</th>\n",
       "      <td>[-130.24554, -130.01763, -130.00173, -131.2168...</td>\n",
       "      <td>[56.09688, 55.91078, 55.26456, 54.69554, 55.21...</td>\n",
       "      <td>Alaska</td>\n",
       "      <td>56886</td>\n",
       "    </tr>\n",
       "  </tbody>\n",
       "</table>\n",
       "</div>"
      ],
      "text/plain": [
       "                                         cordenate_x  \\\n",
       "0  [-157.63525, -157.6481, -157.68938, -157.7197,...   \n",
       "1  [-130.24554, -130.01763, -130.00173, -131.2168...   \n",
       "\n",
       "                                         cordenate_y    name  positiveIncrease  \n",
       "0  [21.24683, 21.23619, 21.20918, 21.20949, 21.21...  Hawaii             28699  \n",
       "1  [56.09688, 55.91078, 55.26456, 54.69554, 55.21...  Alaska             56886  "
      ]
     },
     "execution_count": 34,
     "metadata": {},
     "output_type": "execute_result"
    }
   ],
   "source": [
    "GeographicRateDataFrame"
   ]
  },
  {
   "cell_type": "code",
   "execution_count": 35,
   "id": "339c5090-72a8-4508-bc94-d93fe3f0c610",
   "metadata": {},
   "outputs": [],
   "source": [
    "#def MapDinamic(DataFrame,column_values,palette,width=800,height=500,ranges=None):"
   ]
  },
  {
   "cell_type": "code",
   "execution_count": 36,
   "id": "990d67fa-f93d-4658-a0fa-52604382b3b5",
   "metadata": {},
   "outputs": [],
   "source": [
    "rango_limites={\n",
    "    \"lix1\":-180,\n",
    "    \"lsx2\":-130,\n",
    "    \"liy1\":50,\n",
    "    \"lsy2\":75\n",
    "}\n"
   ]
  },
  {
   "cell_type": "code",
   "execution_count": 37,
   "id": "34ba56f3-99ab-457e-994b-fd13156588ac",
   "metadata": {},
   "outputs": [],
   "source": [
    "palette=tuple(reversed(palette))\n",
    "MapGraph12=MapDinamic(GeographicRateDataFrame,\"positiveIncrease\",palette)"
   ]
  },
  {
   "cell_type": "code",
   "execution_count": 38,
   "id": "966ff674-232c-49b0-a88a-88170dfcb5cc",
   "metadata": {},
   "outputs": [],
   "source": [
    "show(MapGraph12)"
   ]
  },
  {
   "cell_type": "code",
   "execution_count": null,
   "id": "229e9f36-b9aa-49df-b959-5040d5a8d6d7",
   "metadata": {},
   "outputs": [],
   "source": []
  }
 ],
 "metadata": {
  "kernelspec": {
   "display_name": "Python 3 (ipykernel)",
   "language": "python",
   "name": "python3"
  },
  "language_info": {
   "codemirror_mode": {
    "name": "ipython",
    "version": 3
   },
   "file_extension": ".py",
   "mimetype": "text/x-python",
   "name": "python",
   "nbconvert_exporter": "python",
   "pygments_lexer": "ipython3",
   "version": "3.10.1"
  }
 },
 "nbformat": 4,
 "nbformat_minor": 5
}
