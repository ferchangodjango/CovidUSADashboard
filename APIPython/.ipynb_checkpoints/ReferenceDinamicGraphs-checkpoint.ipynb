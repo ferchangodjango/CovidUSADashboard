{
 "cells": [
  {
   "cell_type": "code",
   "execution_count": 1,
   "id": "3cae95bd-5768-40aa-bf9f-fcea85107165",
   "metadata": {},
   "outputs": [],
   "source": [
    "from bokeh.layouts import column\n",
    "from bokeh.models import ColumnDataSource,CustomJS,Range1d,LinearAxis,HoverTool\n",
    "from bokeh.models.widgets import DataTable,TableColumn,Select\n",
    "from bokeh.plotting import save, output_file,show,figure\n",
    "import pandas as pd\n"
   ]
  },
  {
   "cell_type": "code",
   "execution_count": 2,
   "id": "e0974700-a8eb-4914-b003-83635ed34bdf",
   "metadata": {},
   "outputs": [],
   "source": [
    "dictonary={\n",
    "    'Station':['a','a','a','a','b','b','b','b','b'],\n",
    "    'Passengers':[20,30,40,20,10000,15000,20000,8000,16000],\n",
    "    'Date':[1,2,3,4,1,2,3,4,5]}\n",
    "\n",
    "df=pd.DataFrame(dictonary)\n",
    "\n",
    "source = ColumnDataSource(data=df)\n",
    "original_source=ColumnDataSource(data=df)"
   ]
  },
  {
   "cell_type": "code",
   "execution_count": 3,
   "id": "2da6b757-fa37-48e0-8699-fef81c4c8b79",
   "metadata": {},
   "outputs": [
    {
     "data": {
      "text/html": [
       "<div style=\"display: table;\"><div style=\"display: table-row;\"><div style=\"display: table-cell;\"><b title=\"bokeh.models.renderers.glyph_renderer.GlyphRenderer\">GlyphRenderer</b>(</div><div style=\"display: table-cell;\">id&nbsp;=&nbsp;'p1050', <span id=\"p1054\" style=\"cursor: pointer;\">&hellip;)</span></div></div><div class=\"p1053\" style=\"display: none;\"><div style=\"display: table-cell;\"></div><div style=\"display: table-cell;\">context_menu&nbsp;=&nbsp;None,</div></div><div class=\"p1053\" style=\"display: none;\"><div style=\"display: table-cell;\"></div><div style=\"display: table-cell;\">coordinates&nbsp;=&nbsp;None,</div></div><div class=\"p1053\" style=\"display: none;\"><div style=\"display: table-cell;\"></div><div style=\"display: table-cell;\">data_source&nbsp;=&nbsp;ColumnDataSource(id='p1007', ...),</div></div><div class=\"p1053\" style=\"display: none;\"><div style=\"display: table-cell;\"></div><div style=\"display: table-cell;\">glyph&nbsp;=&nbsp;VBar(id='p1047', ...),</div></div><div class=\"p1053\" style=\"display: none;\"><div style=\"display: table-cell;\"></div><div style=\"display: table-cell;\">group&nbsp;=&nbsp;None,</div></div><div class=\"p1053\" style=\"display: none;\"><div style=\"display: table-cell;\"></div><div style=\"display: table-cell;\">hover_glyph&nbsp;=&nbsp;None,</div></div><div class=\"p1053\" style=\"display: none;\"><div style=\"display: table-cell;\"></div><div style=\"display: table-cell;\">js_event_callbacks&nbsp;=&nbsp;{},</div></div><div class=\"p1053\" style=\"display: none;\"><div style=\"display: table-cell;\"></div><div style=\"display: table-cell;\">js_property_callbacks&nbsp;=&nbsp;{},</div></div><div class=\"p1053\" style=\"display: none;\"><div style=\"display: table-cell;\"></div><div style=\"display: table-cell;\">level&nbsp;=&nbsp;'glyph',</div></div><div class=\"p1053\" style=\"display: none;\"><div style=\"display: table-cell;\"></div><div style=\"display: table-cell;\">muted&nbsp;=&nbsp;False,</div></div><div class=\"p1053\" style=\"display: none;\"><div style=\"display: table-cell;\"></div><div style=\"display: table-cell;\">muted_glyph&nbsp;=&nbsp;VBar(id='p1049', ...),</div></div><div class=\"p1053\" style=\"display: none;\"><div style=\"display: table-cell;\"></div><div style=\"display: table-cell;\">name&nbsp;=&nbsp;None,</div></div><div class=\"p1053\" style=\"display: none;\"><div style=\"display: table-cell;\"></div><div style=\"display: table-cell;\">nonselection_glyph&nbsp;=&nbsp;VBar(id='p1048', ...),</div></div><div class=\"p1053\" style=\"display: none;\"><div style=\"display: table-cell;\"></div><div style=\"display: table-cell;\">propagate_hover&nbsp;=&nbsp;False,</div></div><div class=\"p1053\" style=\"display: none;\"><div style=\"display: table-cell;\"></div><div style=\"display: table-cell;\">selection_glyph&nbsp;=&nbsp;'auto',</div></div><div class=\"p1053\" style=\"display: none;\"><div style=\"display: table-cell;\"></div><div style=\"display: table-cell;\">subscribed_events&nbsp;=&nbsp;PropertyValueSet(),</div></div><div class=\"p1053\" style=\"display: none;\"><div style=\"display: table-cell;\"></div><div style=\"display: table-cell;\">syncable&nbsp;=&nbsp;True,</div></div><div class=\"p1053\" style=\"display: none;\"><div style=\"display: table-cell;\"></div><div style=\"display: table-cell;\">tags&nbsp;=&nbsp;[],</div></div><div class=\"p1053\" style=\"display: none;\"><div style=\"display: table-cell;\"></div><div style=\"display: table-cell;\">view&nbsp;=&nbsp;CDSView(id='p1051', ...),</div></div><div class=\"p1053\" style=\"display: none;\"><div style=\"display: table-cell;\"></div><div style=\"display: table-cell;\">visible&nbsp;=&nbsp;True,</div></div><div class=\"p1053\" style=\"display: none;\"><div style=\"display: table-cell;\"></div><div style=\"display: table-cell;\">x_range_name&nbsp;=&nbsp;'default',</div></div><div class=\"p1053\" style=\"display: none;\"><div style=\"display: table-cell;\"></div><div style=\"display: table-cell;\">y_range_name&nbsp;=&nbsp;'default')</div></div></div>\n",
       "<script>\n",
       "(function() {\n",
       "  let expanded = false;\n",
       "  const ellipsis = document.getElementById(\"p1054\");\n",
       "  ellipsis.addEventListener(\"click\", function() {\n",
       "    const rows = document.getElementsByClassName(\"p1053\");\n",
       "    for (let i = 0; i < rows.length; i++) {\n",
       "      const el = rows[i];\n",
       "      el.style.display = expanded ? \"none\" : \"table-row\";\n",
       "    }\n",
       "    ellipsis.innerHTML = expanded ? \"&hellip;)\" : \"&lsaquo;&lsaquo;&lsaquo;\";\n",
       "    expanded = !expanded;\n",
       "  });\n",
       "})();\n",
       "</script>\n"
      ],
      "text/plain": [
       "GlyphRenderer(id='p1050', ...)"
      ]
     },
     "execution_count": 3,
     "metadata": {},
     "output_type": "execute_result"
    }
   ],
   "source": [
    "\n",
    "station_list=['a','b']\n",
    "station_selected='a'\n",
    "x_name='Date'\n",
    "y_name='Passengers'\n",
    "xrange=[0,df.Date.iloc[-1]]\n",
    "#yrange=[0,df.Passengers.max()]\n",
    "source = ColumnDataSource(data=df)\n",
    "\n",
    "plot=figure(title='Passengers for station', width=400, height=400,x_range=(xrange))#, y_range=(yrange))\n",
    "plot.y_range.start=0\n",
    "plot.vbar(x=\"Date\", top=\"Passengers\",source=source, width=0.9)\n",
    "\n"
   ]
  },
  {
   "cell_type": "code",
   "execution_count": 4,
   "id": "0a7bf3b3-e2e9-4255-86c4-8159c9b772f1",
   "metadata": {},
   "outputs": [],
   "source": [
    "callback_javaScript=\"\"\" \n",
    "var data=source.data;\n",
    "var original_data=original_source.data;\n",
    "var select_value=select_station.value;\n",
    "console.log(\"station \"+select_value)\n",
    "\n",
    "for(var key in original_data){\n",
    "    data[key]=[];\n",
    "    for(var i=0;i<original_data['Station'].length;++i){\n",
    "        if(original_data['Station'][i]===select_value){\n",
    "           data[key].push(original_data[key][i]);\n",
    "           console.log(data[key]);\n",
    "        }\n",
    "    }\n",
    "    \n",
    "}\n",
    "source.change.emit();\n",
    "target_obj.change.emit();\n",
    "\n",
    "\"\"\"\n",
    "select_station = Select(title='Select Station', value=station_selected, options=station_list)\n",
    "generic_callback=CustomJS(\n",
    "    args=dict(source=source,\n",
    "              original_source=original_source,\n",
    "              select_station=select_station,\n",
    "              target_obj=plot\n",
    "             ),\n",
    "    code=callback_javaScript)\n",
    "\n",
    "\n",
    "\n",
    "select_station.js_on_change('value', generic_callback)\n",
    "\n",
    "layout=column(select_station, plot)\n"
   ]
  },
  {
   "cell_type": "code",
   "execution_count": 5,
   "id": "6997386b-fcc4-4e6e-ad8e-e77ff57d6c4c",
   "metadata": {},
   "outputs": [],
   "source": [
    "show(layout)"
   ]
  },
  {
   "cell_type": "code",
   "execution_count": null,
   "id": "825b41c0-79d4-4944-8093-20f556b9509d",
   "metadata": {},
   "outputs": [],
   "source": []
  },
  {
   "cell_type": "code",
   "execution_count": null,
   "id": "e281a650-eea1-41b7-87ad-853a9434972b",
   "metadata": {},
   "outputs": [],
   "source": []
  }
 ],
 "metadata": {
  "kernelspec": {
   "display_name": "Python 3 (ipykernel)",
   "language": "python",
   "name": "python3"
  },
  "language_info": {
   "codemirror_mode": {
    "name": "ipython",
    "version": 3
   },
   "file_extension": ".py",
   "mimetype": "text/x-python",
   "name": "python",
   "nbconvert_exporter": "python",
   "pygments_lexer": "ipython3",
   "version": "3.10.1"
  }
 },
 "nbformat": 4,
 "nbformat_minor": 5
}
