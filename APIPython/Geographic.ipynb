{
 "cells": [
  {
   "cell_type": "code",
   "execution_count": 31,
   "id": "65ac7f3a-a8ec-4a61-95ec-47161ccca9c9",
   "metadata": {},
   "outputs": [],
   "source": [
    "from bokeh.plotting import figure,show\n",
    "from bokeh.models import LogColorMapper\n",
    "from bokeh.palettes import Viridis6 as palette\n",
    "from bokeh.sampledata.unemployment import data as unemployment\n",
    "from bokeh.sampledata.us_counties import data as counties"
   ]
  },
  {
   "cell_type": "code",
   "execution_count": 32,
   "id": "66624d35-a519-4db6-9865-1ea15751d1bf",
   "metadata": {},
   "outputs": [],
   "source": [
    "#Reversed the sort of the colors in the palette\n",
    "palette=tuple(reversed(palette))"
   ]
  },
  {
   "cell_type": "code",
   "execution_count": 33,
   "id": "4eef0d69-1d10-4a71-af6d-d5ed0dfa2ad2",
   "metadata": {},
   "outputs": [],
   "source": [
    "color_mapper=LogColorMapper(palette=palette)"
   ]
  },
  {
   "cell_type": "code",
   "execution_count": 34,
   "id": "389d24ee-ef2d-425b-945d-e41eda896699",
   "metadata": {},
   "outputs": [],
   "source": [
    "#Originial counties was a JSON\n",
    "#But with this code line we extract the counties with the Arkansas State\n",
    "counties={\n",
    "    code: county for code,county in counties.items() if county['state']=='ar'\n",
    "}"
   ]
  },
  {
   "cell_type": "code",
   "execution_count": 35,
   "id": "6bf2ce56-7035-4ecf-ad96-a2bfc4380989",
   "metadata": {},
   "outputs": [],
   "source": [
    "#Get the lons( Altitud)\n",
    "county_xs=[county['lons'] for county in counties.values()]\n"
   ]
  },
  {
   "cell_type": "code",
   "execution_count": 36,
   "id": "a1e439b3-3380-4038-b82d-0fc8c6af6a5c",
   "metadata": {},
   "outputs": [],
   "source": [
    "#Get the lats (Latitud)\n",
    "county_ys=[county['lats'] for county in counties.values()]"
   ]
  },
  {
   "cell_type": "code",
   "execution_count": 37,
   "id": "38557e65-5619-4c0a-b92f-1b504ee175e1",
   "metadata": {},
   "outputs": [],
   "source": [
    "#Get the name from the countys in Arkansas\n",
    "county_names=[county['name'] for county in counties.values()]"
   ]
  },
  {
   "cell_type": "code",
   "execution_count": 38,
   "id": "ee4bd9e2-9ef5-46ad-8ef9-a727f5d95e79",
   "metadata": {},
   "outputs": [],
   "source": [
    "#Get the list with the unemployment people in arkansas\n",
    "county_rates=[unemployment[county_id] for county_id in counties]"
   ]
  },
  {
   "cell_type": "code",
   "execution_count": 39,
   "id": "b50de7f0-1d0b-4931-a00b-60157005e84b",
   "metadata": {},
   "outputs": [
    {
     "data": {
      "text/plain": [
       "'\\nNow we have fourth list\\n'"
      ]
     },
     "execution_count": 39,
     "metadata": {},
     "output_type": "execute_result"
    }
   ],
   "source": [
    "\"\"\"\n",
    "Now we have fourth list\n",
    "\"\"\""
   ]
  },
  {
   "cell_type": "code",
   "execution_count": 40,
   "id": "27386a75-2838-4b6c-8e72-0c142c601021",
   "metadata": {},
   "outputs": [],
   "source": [
    "data=dict(\n",
    "    cordenate_x=county_xs,\n",
    "    cordenate_y=county_ys,\n",
    "    name_countys=county_names,\n",
    "    rate_unemployment=county_rates\n",
    ")"
   ]
  },
  {
   "cell_type": "code",
   "execution_count": 41,
   "id": "df53c2c1-d5ee-4c98-b730-dc5b04703196",
   "metadata": {},
   "outputs": [],
   "source": [
    "data_countys={\n",
    "    \"cordenate_x\":county_xs,\n",
    "    \"cordenate_y\":county_ys,\n",
    "    \"name_countys\":county_names,\n",
    "    \"rate_unemployment\":county_rates\n",
    "}"
   ]
  },
  {
   "cell_type": "code",
   "execution_count": 42,
   "id": "59f34984-1671-47e4-ac4e-c3e6fe19601a",
   "metadata": {},
   "outputs": [],
   "source": [
    "TOOLS=\"pan,wheel_zoom,reset,hover,save\""
   ]
  },
  {
   "cell_type": "code",
   "execution_count": 43,
   "id": "4ac2b40c-6c1c-4ebe-93e1-e4a4aec97e71",
   "metadata": {},
   "outputs": [],
   "source": [
    "figure1=figure(\n",
    "    title=\"Arkanzas Unemployment,209\",\n",
    "    tools=TOOLS,\n",
    "    x_axis_location=None,\n",
    "    y_axis_location=None,\n",
    "    tooltips=[\n",
    "        (\"Name\",\"@name_countys\"),\n",
    "        (\"Unemployment Rate\",\"@rate_unemployment\")]\n",
    ")"
   ]
  },
  {
   "cell_type": "code",
   "execution_count": 44,
   "id": "17f18748-0de1-4d59-a769-8e62bc390ddf",
   "metadata": {},
   "outputs": [
    {
     "data": {
      "text/html": [
       "<div style=\"display: table;\"><div style=\"display: table-row;\"><div style=\"display: table-cell;\"><b title=\"bokeh.models.renderers.glyph_renderer.GlyphRenderer\">GlyphRenderer</b>(</div><div style=\"display: table-cell;\">id&nbsp;=&nbsp;'p1422', <span id=\"p1426\" style=\"cursor: pointer;\">&hellip;)</span></div></div><div class=\"p1425\" style=\"display: none;\"><div style=\"display: table-cell;\"></div><div style=\"display: table-cell;\">context_menu&nbsp;=&nbsp;None,</div></div><div class=\"p1425\" style=\"display: none;\"><div style=\"display: table-cell;\"></div><div style=\"display: table-cell;\">coordinates&nbsp;=&nbsp;None,</div></div><div class=\"p1425\" style=\"display: none;\"><div style=\"display: table-cell;\"></div><div style=\"display: table-cell;\">data_source&nbsp;=&nbsp;ColumnDataSource(id='p1413', ...),</div></div><div class=\"p1425\" style=\"display: none;\"><div style=\"display: table-cell;\"></div><div style=\"display: table-cell;\">glyph&nbsp;=&nbsp;Patches(id='p1419', ...),</div></div><div class=\"p1425\" style=\"display: none;\"><div style=\"display: table-cell;\"></div><div style=\"display: table-cell;\">group&nbsp;=&nbsp;None,</div></div><div class=\"p1425\" style=\"display: none;\"><div style=\"display: table-cell;\"></div><div style=\"display: table-cell;\">hover_glyph&nbsp;=&nbsp;None,</div></div><div class=\"p1425\" style=\"display: none;\"><div style=\"display: table-cell;\"></div><div style=\"display: table-cell;\">js_event_callbacks&nbsp;=&nbsp;{},</div></div><div class=\"p1425\" style=\"display: none;\"><div style=\"display: table-cell;\"></div><div style=\"display: table-cell;\">js_property_callbacks&nbsp;=&nbsp;{},</div></div><div class=\"p1425\" style=\"display: none;\"><div style=\"display: table-cell;\"></div><div style=\"display: table-cell;\">level&nbsp;=&nbsp;'glyph',</div></div><div class=\"p1425\" style=\"display: none;\"><div style=\"display: table-cell;\"></div><div style=\"display: table-cell;\">muted&nbsp;=&nbsp;False,</div></div><div class=\"p1425\" style=\"display: none;\"><div style=\"display: table-cell;\"></div><div style=\"display: table-cell;\">muted_glyph&nbsp;=&nbsp;Patches(id='p1421', ...),</div></div><div class=\"p1425\" style=\"display: none;\"><div style=\"display: table-cell;\"></div><div style=\"display: table-cell;\">name&nbsp;=&nbsp;None,</div></div><div class=\"p1425\" style=\"display: none;\"><div style=\"display: table-cell;\"></div><div style=\"display: table-cell;\">nonselection_glyph&nbsp;=&nbsp;Patches(id='p1420', ...),</div></div><div class=\"p1425\" style=\"display: none;\"><div style=\"display: table-cell;\"></div><div style=\"display: table-cell;\">propagate_hover&nbsp;=&nbsp;False,</div></div><div class=\"p1425\" style=\"display: none;\"><div style=\"display: table-cell;\"></div><div style=\"display: table-cell;\">selection_glyph&nbsp;=&nbsp;'auto',</div></div><div class=\"p1425\" style=\"display: none;\"><div style=\"display: table-cell;\"></div><div style=\"display: table-cell;\">subscribed_events&nbsp;=&nbsp;PropertyValueSet(),</div></div><div class=\"p1425\" style=\"display: none;\"><div style=\"display: table-cell;\"></div><div style=\"display: table-cell;\">syncable&nbsp;=&nbsp;True,</div></div><div class=\"p1425\" style=\"display: none;\"><div style=\"display: table-cell;\"></div><div style=\"display: table-cell;\">tags&nbsp;=&nbsp;[],</div></div><div class=\"p1425\" style=\"display: none;\"><div style=\"display: table-cell;\"></div><div style=\"display: table-cell;\">view&nbsp;=&nbsp;CDSView(id='p1423', ...),</div></div><div class=\"p1425\" style=\"display: none;\"><div style=\"display: table-cell;\"></div><div style=\"display: table-cell;\">visible&nbsp;=&nbsp;True,</div></div><div class=\"p1425\" style=\"display: none;\"><div style=\"display: table-cell;\"></div><div style=\"display: table-cell;\">x_range_name&nbsp;=&nbsp;'default',</div></div><div class=\"p1425\" style=\"display: none;\"><div style=\"display: table-cell;\"></div><div style=\"display: table-cell;\">y_range_name&nbsp;=&nbsp;'default')</div></div></div>\n",
       "<script>\n",
       "(function() {\n",
       "  let expanded = false;\n",
       "  const ellipsis = document.getElementById(\"p1426\");\n",
       "  ellipsis.addEventListener(\"click\", function() {\n",
       "    const rows = document.getElementsByClassName(\"p1425\");\n",
       "    for (let i = 0; i < rows.length; i++) {\n",
       "      const el = rows[i];\n",
       "      el.style.display = expanded ? \"none\" : \"table-row\";\n",
       "    }\n",
       "    ellipsis.innerHTML = expanded ? \"&hellip;)\" : \"&lsaquo;&lsaquo;&lsaquo;\";\n",
       "    expanded = !expanded;\n",
       "  });\n",
       "})();\n",
       "</script>\n"
      ],
      "text/plain": [
       "GlyphRenderer(id='p1422', ...)"
      ]
     },
     "execution_count": 44,
     "metadata": {},
     "output_type": "execute_result"
    }
   ],
   "source": [
    "figure1.grid.grid_line_color=None\n",
    "figure1.hover.point_policy=\"follow_mouse\"\n",
    "figure1.patches(\"cordenate_x\",\"cordenate_y\",\n",
    "                source=data,\n",
    "                fill_color={\"field\":\"rate_unemployment\",\n",
    "                            \"transform\":color_mapper},\n",
    "                fill_alpha=0.6,\n",
    "                line_color=\"black\",\n",
    "                line_width=0.5)"
   ]
  },
  {
   "cell_type": "code",
   "execution_count": 45,
   "id": "0d589f6b-12ab-47e0-9bf7-ef0892641abb",
   "metadata": {},
   "outputs": [],
   "source": [
    "show(figure1)"
   ]
  },
  {
   "cell_type": "code",
   "execution_count": null,
   "id": "42282252-1a63-4cbb-9db4-80123e4ab620",
   "metadata": {},
   "outputs": [],
   "source": []
  }
 ],
 "metadata": {
  "kernelspec": {
   "display_name": "Python 3 (ipykernel)",
   "language": "python",
   "name": "python3"
  },
  "language_info": {
   "codemirror_mode": {
    "name": "ipython",
    "version": 3
   },
   "file_extension": ".py",
   "mimetype": "text/x-python",
   "name": "python",
   "nbconvert_exporter": "python",
   "pygments_lexer": "ipython3",
   "version": "3.10.1"
  }
 },
 "nbformat": 4,
 "nbformat_minor": 5
}
